{
 "cells": [
  {
   "cell_type": "markdown",
   "id": "fb3b2928-b27a-4b41-88e4-b7988420bed3",
   "metadata": {},
   "source": [
    "# Business Impact Analysis\n",
    "## Loss Estimation Exercise\n",
    "*Taken from Becker CPA Review*"
   ]
  },
  {
   "cell_type": "markdown",
   "id": "24673f02-d083-42bb-af69-bdd283efab49",
   "metadata": {},
   "source": [
    "BuildTech Inc., a manufacturing company specializing in construction equipment, is conducting its business impact analysis and is estimating its losses from potential risks and events taht may disrupt operations.  The organization determined that a key risk area would be the partial flooding of the southern portion of BuildTech's $5 million data center, which processes the analytic workflows pertaining to the company's proprietary software embedded in its construction equipment, which makes up 40 percent of the data center, due to excessive rain or severe weather systems.  Based on research and prior knowledge, it was determined that flooding would occur every 20 years.  BuildTech Inc. wishes to annualize the cost of this risk.\n",
    "\n",
    "**Required:**\n",
    "1. What is the Annualized Rate of Occurrance (ARO)\n",
    "2. What is the Exposure Factor (EF)\n",
    "3. What is the Single Loss Expectancy (SLE)\n",
    "4. WhaT is the Annualized Loss Expetancy (ALE)"
   ]
  },
  {
   "cell_type": "code",
   "execution_count": 2,
   "id": "167c37d9-a8ea-46d3-8129-cf0951391fdb",
   "metadata": {},
   "outputs": [],
   "source": [
    "from business_impact_analysis import LossEstimation"
   ]
  },
  {
   "cell_type": "markdown",
   "id": "b41e1433-d360-4ed4-b3bb-0e9b213ca714",
   "metadata": {},
   "source": [
    "**Annualized Rate of Occurance (ARO)**\n",
    "\n",
    "The `ARO` is a probability, in this case the probability of a major weather event.  According to the research such an event would occur 1 in every 20 years."
   ]
  },
  {
   "cell_type": "code",
   "execution_count": 20,
   "id": "6813a821-1794-4d81-8e59-19d789a6094b",
   "metadata": {},
   "outputs": [
    {
     "name": "stdout",
     "output_type": "stream",
     "text": [
      "The ARO is 5%\n"
     ]
    }
   ],
   "source": [
    "annualized_rate_of_occurance = 1 / 20\n",
    "print(f'The ARO is {annualized_rate_of_occurance * 100:.0f}%')"
   ]
  },
  {
   "cell_type": "code",
   "execution_count": null,
   "id": "e0ca2a81-ec04-46b7-aa6c-40534f194169",
   "metadata": {},
   "outputs": [],
   "source": []
  },
  {
   "cell_type": "markdown",
   "id": "ff6105ea-594a-4812-b539-a61e59e18018",
   "metadata": {},
   "source": [
    "**Exposure Factor**\n",
    "\n",
    "The `Exposure Factor EF` is percentage of the total value of the asset that is at risk, in this case, the southern part of the building makes up to 40% of the datacenter."
   ]
  },
  {
   "cell_type": "code",
   "execution_count": 18,
   "id": "8fdfdc1a-75c5-46cc-950f-c9d42a7e6600",
   "metadata": {},
   "outputs": [
    {
     "name": "stdout",
     "output_type": "stream",
     "text": [
      "The exposure factor is: 40%\n"
     ]
    }
   ],
   "source": [
    "exposure_factor = .40\n",
    "print(f'The exposure factor is: {exposure_factor * 100:.0f}%')"
   ]
  },
  {
   "cell_type": "code",
   "execution_count": null,
   "id": "90824d93-5618-4df5-add5-0c7ea80cc770",
   "metadata": {},
   "outputs": [],
   "source": []
  },
  {
   "cell_type": "markdown",
   "id": "990b0a81-4bb4-4cfe-acc6-a2dc9136d20f",
   "metadata": {},
   "source": [
    "**Singe Loss Expectancy (SLE)**\n",
    "\n",
    "The `Single Loss Expectancy SLE` represents the total loss that the company would take in the case of a major weather event. For this calculation we will need the total value of the asset and the exposure factor (from above)."
   ]
  },
  {
   "cell_type": "code",
   "execution_count": 21,
   "id": "44c3e954-bffe-4597-be11-4705ecbcf3f2",
   "metadata": {},
   "outputs": [
    {
     "name": "stdout",
     "output_type": "stream",
     "text": [
      "The Single Loss Expectancy (SLE) is: $2,000,000\n"
     ]
    }
   ],
   "source": [
    "value_of_asset = 5000000\n",
    "\n",
    "# Initialize LossEstimation Module\n",
    "loss_estimate = LossEstimation(annualized_rate_of_occurance, exposure_factor, value_of_asset) \n",
    "\n",
    "sle = loss_estimate.single_loss_expectancy()\n",
    "print(f'The Single Loss Expectancy (SLE) is: ${sle:,.0f}')\n"
   ]
  },
  {
   "cell_type": "code",
   "execution_count": null,
   "id": "a4d9c439-c92c-47f1-8041-405e43d2a4a2",
   "metadata": {},
   "outputs": [],
   "source": []
  },
  {
   "cell_type": "markdown",
   "id": "fdf1269f-1fe2-4d10-b720-81300ec55db0",
   "metadata": {},
   "source": [
    "**Annualized Loss Expectancy (ALE)**\n",
    "\n",
    "To compute the Annualized Loss Expectancy we need the `ARO`, `EF`, and the total value of the asset at risk. (Already initialized at the above cells)"
   ]
  },
  {
   "cell_type": "code",
   "execution_count": 27,
   "id": "689c45b4-af78-42c2-b884-87921509a0e4",
   "metadata": {},
   "outputs": [
    {
     "name": "stdout",
     "output_type": "stream",
     "text": [
      "The Annualized Loss Expectancy is: $100,000\n"
     ]
    }
   ],
   "source": [
    "ale = loss_estimate.annualized_loss_expectancy()\n",
    "print(f'The Annualized Loss Expectancy is: ${ale:,.0f}')"
   ]
  }
 ],
 "metadata": {
  "kernelspec": {
   "display_name": "Python 3 (ipykernel)",
   "language": "python",
   "name": "python3"
  },
  "language_info": {
   "codemirror_mode": {
    "name": "ipython",
    "version": 3
   },
   "file_extension": ".py",
   "mimetype": "text/x-python",
   "name": "python",
   "nbconvert_exporter": "python",
   "pygments_lexer": "ipython3",
   "version": "3.12.8"
  }
 },
 "nbformat": 4,
 "nbformat_minor": 5
}
